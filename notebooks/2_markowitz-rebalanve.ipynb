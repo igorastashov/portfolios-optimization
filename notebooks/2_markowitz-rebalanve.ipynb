{
 "cells": [
  {
   "cell_type": "code",
   "execution_count": 2,
   "id": "e29e57de-d958-4373-81ad-c119f4edeb47",
   "metadata": {
    "scrolled": true
   },
   "outputs": [],
   "source": [
    "import pandas as pd\n",
    "import numpy as np\n",
    "\n",
    "import matplotlib.pyplot as plt"
   ]
  },
  {
   "cell_type": "code",
   "execution_count": 3,
   "id": "bd249725-5934-41bd-9fe3-54d4de42ebe6",
   "metadata": {},
   "outputs": [],
   "source": [
    "# trainEND = '2024-12-31'\n",
    "# testSTART = '2025-01-01'"
   ]
  },
  {
   "cell_type": "code",
   "execution_count": 4,
   "id": "4418d06e-3a20-4d4c-897d-342217b91d36",
   "metadata": {},
   "outputs": [],
   "source": [
    "# import datetime\n",
    "\n",
    "# # принимает строку, приращивает дату, возвращает строку\n",
    "# # по умолчанию возвращает следующий день\n",
    "# def NextDay(date_str, delta=1):\n",
    "#     date_time = datetime.datetime.strptime(date_str, \"%Y-%m-%d\").date() + datetime.timedelta(days=delta)\n",
    "#     return date_time.strftime(\"%Y-%m-%d\")"
   ]
  },
  {
   "cell_type": "code",
   "execution_count": 5,
   "id": "55a9c4a4-5937-4740-ad2a-41b854e1f80c",
   "metadata": {},
   "outputs": [
    {
     "name": "stdout",
     "output_type": "stream",
     "text": [
      "                      BNBUSDT   BTCUSDT  CAKEUSDT   ETHUSDT   LTCUSDT  \\\n",
      "Close time                                                              \n",
      "2021-01-01 01:00:00       NaN       NaN       NaN       NaN       NaN   \n",
      "2021-01-01 02:00:00  0.006321  0.014207       NaN  0.019173  0.061294   \n",
      "2021-01-01 03:00:00  0.009173 -0.007349       NaN -0.005656  0.012301   \n",
      "2021-01-01 04:00:00 -0.000922  0.002865       NaN  0.001021 -0.012604   \n",
      "2021-01-01 05:00:00 -0.001446 -0.001986       NaN -0.003403 -0.006018   \n",
      "\n",
      "                      SOLUSDT  STRKUSDT  TONUSDT  USDCUSDT   XRPUSDT  \\\n",
      "Close time                                                             \n",
      "2021-01-01 01:00:00       NaN       NaN      NaN       NaN       NaN   \n",
      "2021-01-01 02:00:00  0.018733       NaN      NaN   -0.0001  0.009878   \n",
      "2021-01-01 03:00:00  0.008733       NaN      NaN    0.0000 -0.000939   \n",
      "2021-01-01 04:00:00  0.009843       NaN      NaN   -0.0001  0.016367   \n",
      "2021-01-01 05:00:00 -0.000437       NaN      NaN    0.0001  0.050109   \n",
      "\n",
      "                     PEPEUSDT  HBARUSDT  APTUSDT  LDOUSDT  JUPUSDT  \n",
      "Close time                                                          \n",
      "2021-01-01 01:00:00       NaN       NaN      NaN      NaN      NaN  \n",
      "2021-01-01 02:00:00       NaN  0.003122      NaN      NaN      NaN  \n",
      "2021-01-01 03:00:00       NaN  0.002180      NaN      NaN      NaN  \n",
      "2021-01-01 04:00:00       NaN  0.002175      NaN      NaN      NaN  \n",
      "2021-01-01 05:00:00       NaN  0.032069      NaN      NaN      NaN  \n"
     ]
    },
    {
     "name": "stderr",
     "output_type": "stream",
     "text": [
      "C:\\Users\\igora\\AppData\\Local\\Temp\\ipykernel_9504\\1038659304.py:22: FutureWarning: DataFrame.fillna with 'method' is deprecated and will raise in a future version. Use obj.ffill() or obj.bfill() instead.\n",
      "  df_h = df.fillna(method='ffill').resample('h').ffill()\n"
     ]
    }
   ],
   "source": [
    "import os\n",
    "import pandas as pd\n",
    "import numpy as np\n",
    "\n",
    "# Путь к папке с данными\n",
    "data_dir = \"../data\"\n",
    "\n",
    "# Чтение данных из файла data_compare_eda.csv в папке data\n",
    "file_path = os.path.join(data_dir, \"data_compare_eda.csv\")\n",
    "df = pd.read_csv(file_path, parse_dates=True, index_col=0)\n",
    "\n",
    "# Список тикеров\n",
    "tickers = [\"BNBUSDT\", \"BTCUSDT\", \"CAKEUSDT\", \"ETHUSDT\",\n",
    "           \"LTCUSDT\", \"SOLUSDT\", \"STRKUSDT\", \"TONUSDT\",\n",
    "           \"USDCUSDT\", \"XRPUSDT\", \"PEPEUSDT\",\n",
    "           \"HBARUSDT\", \"APTUSDT\", \"LDOUSDT\", \"JUPUSDT\"]\n",
    "\n",
    "# Переименовываем колонки в соответствии со списком тикеров\n",
    "df.columns = tickers\n",
    "\n",
    "# Заполняем пропуски последними известными значениями (forward fill)\n",
    "df_h = df.fillna(method='ffill').resample('h').ffill()\n",
    "\n",
    "# Вычисляем относительные изменения (процентное изменение)\n",
    "df_h_pct = df_h.pct_change().iloc[1:]\n",
    "\n",
    "# Вычисляем логарифмическую доходность\n",
    "df_h_log = np.log(df_h / df_h.shift(1)).iloc[1:]\n",
    "\n",
    "# Выводим первые строки логарифмической доходности\n",
    "print(df_h_log.head())"
   ]
  },
  {
   "cell_type": "code",
   "execution_count": 6,
   "id": "2b6aca32-6cfe-4e10-8910-2c3f673e825f",
   "metadata": {},
   "outputs": [],
   "source": [
    "selected_portfolio = ['JUPUSDT', 'PEPEUSDT', 'APTUSDT', 'CAKEUSDT', 'HBARUSDT', 'STRKUSDT', 'USDCUSDT'] # 'XRPUSDT'"
   ]
  },
  {
   "cell_type": "code",
   "execution_count": 7,
   "id": "10ba6a92-c8c8-47aa-a8f0-0dec28188ce2",
   "metadata": {},
   "outputs": [],
   "source": [
    "df_h_log = df_h_log[selected_portfolio].dropna().copy()"
   ]
  },
  {
   "cell_type": "code",
   "execution_count": 8,
   "id": "5ee50537-6591-40c9-80e2-2fe2a9a12e6a",
   "metadata": {},
   "outputs": [
    {
     "data": {
      "text/html": [
       "<div>\n",
       "<style scoped>\n",
       "    .dataframe tbody tr th:only-of-type {\n",
       "        vertical-align: middle;\n",
       "    }\n",
       "\n",
       "    .dataframe tbody tr th {\n",
       "        vertical-align: top;\n",
       "    }\n",
       "\n",
       "    .dataframe thead th {\n",
       "        text-align: right;\n",
       "    }\n",
       "</style>\n",
       "<table border=\"1\" class=\"dataframe\">\n",
       "  <thead>\n",
       "    <tr style=\"text-align: right;\">\n",
       "      <th></th>\n",
       "      <th>JUPUSDT</th>\n",
       "      <th>PEPEUSDT</th>\n",
       "      <th>APTUSDT</th>\n",
       "      <th>CAKEUSDT</th>\n",
       "      <th>HBARUSDT</th>\n",
       "      <th>STRKUSDT</th>\n",
       "      <th>USDCUSDT</th>\n",
       "    </tr>\n",
       "    <tr>\n",
       "      <th>Close time</th>\n",
       "      <th></th>\n",
       "      <th></th>\n",
       "      <th></th>\n",
       "      <th></th>\n",
       "      <th></th>\n",
       "      <th></th>\n",
       "      <th></th>\n",
       "    </tr>\n",
       "  </thead>\n",
       "  <tbody>\n",
       "    <tr>\n",
       "      <th>2024-02-20 15:00:00</th>\n",
       "      <td>-0.028712</td>\n",
       "      <td>-0.024898</td>\n",
       "      <td>-0.031888</td>\n",
       "      <td>-0.024322</td>\n",
       "      <td>-0.039987</td>\n",
       "      <td>-0.137387</td>\n",
       "      <td>-0.0001</td>\n",
       "    </tr>\n",
       "    <tr>\n",
       "      <th>2024-02-20 16:00:00</th>\n",
       "      <td>-0.018072</td>\n",
       "      <td>-0.025533</td>\n",
       "      <td>-0.022697</td>\n",
       "      <td>-0.016427</td>\n",
       "      <td>-0.028876</td>\n",
       "      <td>-0.112551</td>\n",
       "      <td>-0.0001</td>\n",
       "    </tr>\n",
       "    <tr>\n",
       "      <th>2024-02-20 17:00:00</th>\n",
       "      <td>-0.021676</td>\n",
       "      <td>-0.008658</td>\n",
       "      <td>-0.017723</td>\n",
       "      <td>-0.016327</td>\n",
       "      <td>0.000976</td>\n",
       "      <td>-0.087866</td>\n",
       "      <td>0.0001</td>\n",
       "    </tr>\n",
       "    <tr>\n",
       "      <th>2024-02-20 18:00:00</th>\n",
       "      <td>0.004903</td>\n",
       "      <td>0.008658</td>\n",
       "      <td>0.009284</td>\n",
       "      <td>0.003734</td>\n",
       "      <td>0.012603</td>\n",
       "      <td>-0.039463</td>\n",
       "      <td>0.0002</td>\n",
       "    </tr>\n",
       "    <tr>\n",
       "      <th>2024-02-20 19:00:00</th>\n",
       "      <td>0.002036</td>\n",
       "      <td>-0.008658</td>\n",
       "      <td>0.003161</td>\n",
       "      <td>0.007057</td>\n",
       "      <td>0.027555</td>\n",
       "      <td>0.038530</td>\n",
       "      <td>0.0001</td>\n",
       "    </tr>\n",
       "    <tr>\n",
       "      <th>...</th>\n",
       "      <td>...</td>\n",
       "      <td>...</td>\n",
       "      <td>...</td>\n",
       "      <td>...</td>\n",
       "      <td>...</td>\n",
       "      <td>...</td>\n",
       "      <td>...</td>\n",
       "    </tr>\n",
       "    <tr>\n",
       "      <th>2025-04-12 03:00:00</th>\n",
       "      <td>-0.016956</td>\n",
       "      <td>-0.004383</td>\n",
       "      <td>-0.000840</td>\n",
       "      <td>0.001510</td>\n",
       "      <td>-0.005650</td>\n",
       "      <td>-0.005313</td>\n",
       "      <td>-0.0001</td>\n",
       "    </tr>\n",
       "    <tr>\n",
       "      <th>2025-04-12 04:00:00</th>\n",
       "      <td>-0.002107</td>\n",
       "      <td>0.004383</td>\n",
       "      <td>0.006700</td>\n",
       "      <td>-0.007067</td>\n",
       "      <td>0.001807</td>\n",
       "      <td>-0.000761</td>\n",
       "      <td>0.0001</td>\n",
       "    </tr>\n",
       "    <tr>\n",
       "      <th>2025-04-12 05:00:00</th>\n",
       "      <td>0.006569</td>\n",
       "      <td>0.010152</td>\n",
       "      <td>0.000834</td>\n",
       "      <td>-0.001521</td>\n",
       "      <td>0.003544</td>\n",
       "      <td>0.010606</td>\n",
       "      <td>-0.0001</td>\n",
       "    </tr>\n",
       "    <tr>\n",
       "      <th>2025-04-12 06:00:00</th>\n",
       "      <td>-0.000262</td>\n",
       "      <td>0.007189</td>\n",
       "      <td>0.007892</td>\n",
       "      <td>0.003545</td>\n",
       "      <td>0.002096</td>\n",
       "      <td>0.000753</td>\n",
       "      <td>0.0001</td>\n",
       "    </tr>\n",
       "    <tr>\n",
       "      <th>2025-04-12 07:00:00</th>\n",
       "      <td>-0.000262</td>\n",
       "      <td>0.005714</td>\n",
       "      <td>-0.000828</td>\n",
       "      <td>-0.003038</td>\n",
       "      <td>0.004954</td>\n",
       "      <td>0.000000</td>\n",
       "      <td>-0.0001</td>\n",
       "    </tr>\n",
       "  </tbody>\n",
       "</table>\n",
       "<p>10001 rows × 7 columns</p>\n",
       "</div>"
      ],
      "text/plain": [
       "                      JUPUSDT  PEPEUSDT   APTUSDT  CAKEUSDT  HBARUSDT  \\\n",
       "Close time                                                              \n",
       "2024-02-20 15:00:00 -0.028712 -0.024898 -0.031888 -0.024322 -0.039987   \n",
       "2024-02-20 16:00:00 -0.018072 -0.025533 -0.022697 -0.016427 -0.028876   \n",
       "2024-02-20 17:00:00 -0.021676 -0.008658 -0.017723 -0.016327  0.000976   \n",
       "2024-02-20 18:00:00  0.004903  0.008658  0.009284  0.003734  0.012603   \n",
       "2024-02-20 19:00:00  0.002036 -0.008658  0.003161  0.007057  0.027555   \n",
       "...                       ...       ...       ...       ...       ...   \n",
       "2025-04-12 03:00:00 -0.016956 -0.004383 -0.000840  0.001510 -0.005650   \n",
       "2025-04-12 04:00:00 -0.002107  0.004383  0.006700 -0.007067  0.001807   \n",
       "2025-04-12 05:00:00  0.006569  0.010152  0.000834 -0.001521  0.003544   \n",
       "2025-04-12 06:00:00 -0.000262  0.007189  0.007892  0.003545  0.002096   \n",
       "2025-04-12 07:00:00 -0.000262  0.005714 -0.000828 -0.003038  0.004954   \n",
       "\n",
       "                     STRKUSDT  USDCUSDT  \n",
       "Close time                               \n",
       "2024-02-20 15:00:00 -0.137387   -0.0001  \n",
       "2024-02-20 16:00:00 -0.112551   -0.0001  \n",
       "2024-02-20 17:00:00 -0.087866    0.0001  \n",
       "2024-02-20 18:00:00 -0.039463    0.0002  \n",
       "2024-02-20 19:00:00  0.038530    0.0001  \n",
       "...                       ...       ...  \n",
       "2025-04-12 03:00:00 -0.005313   -0.0001  \n",
       "2025-04-12 04:00:00 -0.000761    0.0001  \n",
       "2025-04-12 05:00:00  0.010606   -0.0001  \n",
       "2025-04-12 06:00:00  0.000753    0.0001  \n",
       "2025-04-12 07:00:00  0.000000   -0.0001  \n",
       "\n",
       "[10001 rows x 7 columns]"
      ]
     },
     "execution_count": 8,
     "metadata": {},
     "output_type": "execute_result"
    }
   ],
   "source": [
    "df_h_log"
   ]
  },
  {
   "cell_type": "code",
   "execution_count": 8,
   "id": "e855f044-add9-4ecf-9d46-1ce1b01bac64",
   "metadata": {},
   "outputs": [],
   "source": [
    "train_size = int(len(df_h_log) * 0.8)  # 80% данных для обучения\n",
    "train_df = df_h_log.iloc[:train_size]\n",
    "test_df = df_h_log.iloc[train_size:]\n",
    "\n",
    "trainEND = df_h_log.index[train_size - 1]  # Последняя дата в обучающей выборке\n",
    "testSTART = df_h_log.index[train_size]\n",
    "\n",
    "# train_df = df_h_log[:trainEND]\n",
    "# test_df = df_h_log[testSTART:]"
   ]
  },
  {
   "cell_type": "code",
   "execution_count": 9,
   "id": "d551d0ee-cb90-4050-831a-c6827044b1a8",
   "metadata": {},
   "outputs": [],
   "source": [
    "# Шаг 1: Обработка пропущенных значений\n",
    "train_df = train_df.interpolate(method='linear', axis=0)  # Линейная интерполяция\n",
    "train_df = train_df.fillna(0)  # Заполнение оставшихся пропусков нулями\n",
    "\n",
    "# Шаг 2: Проверка, что все активы имеют достаточное количество данных\n",
    "min_obs = len(train_df) * 0.8  # Минимум 80% данных\n",
    "train_df = train_df.loc[:, train_df.count() >= min_obs]\n",
    "\n",
    "# Шаг 3: Вычисление метрик портфеля\n",
    "assetsNum = len(train_df.columns)\n",
    "iterNum = 10000\n",
    "\n",
    "all_portf = np.zeros((iterNum, assetsNum))\n",
    "ret_arr = np.zeros(iterNum)\n",
    "vol_arr = np.zeros(iterNum)\n",
    "sharpe_arr = np.zeros(iterNum)\n",
    "\n",
    "for x in range(iterNum):\n",
    "    portf = np.random.dirichlet(np.ones(assetsNum), size=1)[0]  # Генерация случайного портфеля\n",
    "    \n",
    "    all_portf[x, :] = portf\n",
    "    \n",
    "    ret_arr[x] = np.sum(train_df.mean() * portf)  # Ожидаемая доходность портфеля\n",
    "    \n",
    "    vol_arr[x] = np.sqrt(np.dot(portf.T, np.dot(train_df.cov(), portf)))  # Волатильность портфеля\n",
    "    \n",
    "    sharpe_arr[x] = ret_arr[x] / vol_arr[x]  # Коэффициент Шарпа"
   ]
  },
  {
   "cell_type": "code",
   "execution_count": null,
   "id": "dceb451b-8718-46e4-a2d8-ab57344b4735",
   "metadata": {},
   "outputs": [],
   "source": [
    "max_sharpe_portf = sharpe_arr.argmax()\n",
    "max_sharpe_ret = ret_arr[sharpe_arr.argmax()]\n",
    "max_sharpe_vol = vol_arr[sharpe_arr.argmax()]\n",
    "\n",
    "print(sharpe_arr.max())\n",
    "print(max_sharpe_portf)\n",
    "print(all_portf[max_sharpe_portf, :])"
   ]
  },
  {
   "cell_type": "code",
   "execution_count": null,
   "id": "651fe975-1831-4804-96ae-2a76a911240e",
   "metadata": {},
   "outputs": [],
   "source": [
    "plt.figure(figsize=(12,8))\n",
    "plt.scatter(vol_arr, ret_arr, c=sharpe_arr, cmap='viridis')\n",
    "plt.colorbar(label='Sharpe Ratio')\n",
    "plt.xlabel('Volatility')\n",
    "plt.ylabel('Return')\n",
    "plt.scatter(max_sharpe_vol, max_sharpe_ret, c='red')\n",
    "plt.grid()\n",
    "plt.show()"
   ]
  },
  {
   "cell_type": "code",
   "execution_count": null,
   "id": "efe41c67-02ec-4736-af87-80365a8ddf86",
   "metadata": {},
   "outputs": [],
   "source": [
    "plt.figure(figsize=(12,8))\n",
    "plt.ylabel('Return')\n",
    "np.matmul(df_h_pct[selected_portfolio][:trainEND], all_portf[max_sharpe_portf, :]).cumsum().plot(color='green', linewidth=2)\n",
    "plt.grid()\n",
    "plt.show()"
   ]
  },
  {
   "cell_type": "code",
   "execution_count": null,
   "id": "81e78a58-ee24-4822-968d-eb1cbb02ddfd",
   "metadata": {},
   "outputs": [],
   "source": [
    "# бэктест\n",
    "plt.figure(figsize=(12,8))\n",
    "plt.ylabel('Return')\n",
    "np.matmul(df_h_pct[selected_portfolio][testSTART:], all_portf[max_sharpe_portf, :]).cumsum().plot(color='maroon', linewidth=2)\n",
    "plt.grid()\n",
    "plt.show()"
   ]
  },
  {
   "cell_type": "code",
   "execution_count": 14,
   "id": "1af84ba3-f945-4fb6-a289-80afb026539a",
   "metadata": {},
   "outputs": [],
   "source": [
    "# доходность\n",
    "period_ret = 24"
   ]
  },
  {
   "cell_type": "code",
   "execution_count": 15,
   "id": "71cf0056-4bda-4416-987c-56477e3af471",
   "metadata": {},
   "outputs": [],
   "source": [
    "# возвращает прибыль, волатильность и коэффициент Шарпа для любого портфеля\n",
    "def get_params(portf):\n",
    "    portf = np.array(portf)\n",
    "    ret = np.sum(df_h_log.mean() * portf) * period_ret\n",
    "    vol = np.sqrt(np.dot(portf.T, np.dot(df_h_log.cov()*period_ret, portf)))\n",
    "    shrp = ret/vol\n",
    "    return np.array([ret, vol, shrp])\n",
    "\n",
    "# вовзращает отрицательный кэф. Шарпа, чтобы решать задачу минимизации\n",
    "def neg_sharpe(portf):\n",
    "    return get_params(portf)[2] * -1\n",
    "\n",
    "# проверка на валидность: возвращает 0, если сумма равна 1\n",
    "def check_valid(portf):\n",
    "    return np.sum(portf) - 1"
   ]
  },
  {
   "cell_type": "code",
   "execution_count": 16,
   "id": "7ef3aa37-b101-4c07-9867-5e270906ab2a",
   "metadata": {},
   "outputs": [],
   "source": [
    "cons = ({'type': 'eq', 'fun': check_valid})\n",
    "bounds = tuple([(0, 1) for _ in range(assetsNum)])\n",
    "init_portf = [1/assetsNum for _ in range(assetsNum)]"
   ]
  },
  {
   "cell_type": "code",
   "execution_count": null,
   "id": "cfd727f7-0901-41f7-bc5e-14e5b86e669d",
   "metadata": {},
   "outputs": [],
   "source": [
    "# поиск оптимального портфеля с помощью МНК\n",
    "from scipy.optimize import minimize\n",
    "res = minimize(neg_sharpe, init_portf, method='SLSQP', bounds=bounds, constraints=cons)\n",
    "print(res)"
   ]
  },
  {
   "cell_type": "code",
   "execution_count": null,
   "id": "9383fe81-d754-431e-99f4-a588786723d1",
   "metadata": {},
   "outputs": [],
   "source": [
    "get_params(res.x)"
   ]
  },
  {
   "cell_type": "markdown",
   "id": "2b3be67a-fa9f-426e-9c05-3ada88817715",
   "metadata": {},
   "source": [
    "## Визуализация границ"
   ]
  },
  {
   "cell_type": "code",
   "execution_count": 19,
   "id": "7af88cd0-0a3b-442e-9639-88ae38a9deda",
   "metadata": {},
   "outputs": [],
   "source": [
    "def minimize_vol(portf):\n",
    "    return get_params(portf)[1]"
   ]
  },
  {
   "cell_type": "code",
   "execution_count": 20,
   "id": "cb318303-001b-4c79-9967-7363eceac2b4",
   "metadata": {},
   "outputs": [],
   "source": [
    "frontier_x = []\n",
    "frontier_y = np.linspace(0, 0.6, 200)\n",
    "\n",
    "for y in frontier_y:\n",
    "    cons = ({'type':'eq', 'fun': check_valid},\n",
    "            {'type':'eq', 'fun': lambda w: get_params(w)[0] - y})\n",
    "    \n",
    "    result = minimize(minimize_vol, init_portf, method='SLSQP', bounds=bounds, constraints=cons)\n",
    "    frontier_x.append(result['fun'])"
   ]
  },
  {
   "cell_type": "code",
   "execution_count": null,
   "id": "fc0b7c81-d6f9-4f97-a3ca-5c156a42682b",
   "metadata": {},
   "outputs": [],
   "source": [
    "plt.figure(figsize=(12,8))\n",
    "plt.scatter(vol_arr, ret_arr, c=sharpe_arr, cmap='viridis')\n",
    "plt.colorbar(label='Sharpe Ratio')\n",
    "plt.xlabel('Volatility')\n",
    "plt.ylabel('Return')\n",
    "plt.plot(frontier_x, frontier_y, 'r--', linewidth=3)\n",
    "plt.show()"
   ]
  },
  {
   "cell_type": "markdown",
   "id": "d0d78003-d965-48ce-84f8-793a80217ea4",
   "metadata": {},
   "source": [
    "## Динамика по портфелю + тестирование"
   ]
  },
  {
   "cell_type": "code",
   "execution_count": 22,
   "id": "c6516c64-b9bd-47d3-8152-d684adaeee6f",
   "metadata": {},
   "outputs": [],
   "source": [
    "train_din = np.matmul(df_h_pct[selected_portfolio][:trainEND], res.x).cumsum() \n",
    "test_din = np.matmul(df_h_pct[selected_portfolio][testSTART:], res.x).cumsum() "
   ]
  },
  {
   "cell_type": "code",
   "execution_count": null,
   "id": "250c07e8-a6bd-4375-907f-82f885166104",
   "metadata": {},
   "outputs": [],
   "source": [
    "plt.figure(figsize=(12,8))\n",
    "train_din.plot(linewidth=2)\n",
    "plt.title('Суммарная прибыль')\n",
    "plt.ylabel('Return')\n",
    "plt.grid()\n",
    "plt.axhline(y=0, color='black')\n",
    "plt.show()"
   ]
  },
  {
   "cell_type": "code",
   "execution_count": null,
   "id": "f9f110f3-d2ba-4c2d-96d8-bf1949bebd2d",
   "metadata": {},
   "outputs": [],
   "source": [
    "plt.figure(figsize=(12,8))\n",
    "test_din.plot(linewidth=2)\n",
    "plt.title('Суммарная прибыль - test')\n",
    "plt.ylabel('Return')\n",
    "plt.grid()\n",
    "plt.axhline(y=0, color='black')\n",
    "plt.show()"
   ]
  },
  {
   "cell_type": "code",
   "execution_count": 25,
   "id": "ee6e1627-6da5-4975-9d67-150c1d946cdd",
   "metadata": {},
   "outputs": [],
   "source": [
    "np.matmul(df_h_pct[selected_portfolio][testSTART:], res.x).to_csv('./markowitz_return_series.csv')"
   ]
  },
  {
   "cell_type": "code",
   "execution_count": null,
   "id": "f02ef204-5675-4df0-9501-7c5848035b69",
   "metadata": {},
   "outputs": [],
   "source": [
    "# Доходность портфеля за период\n",
    "print('Доходность портфеля за период {:.2%}'.format(test_din[-1]))\n",
    "# Шарп\n",
    "print('Коэффициент Шарпа {:.2f}'.format(test_din[-1] / test_din.std()))"
   ]
  },
  {
   "cell_type": "markdown",
   "id": "6421b038-9435-4fc2-9d85-dcf4855d0955",
   "metadata": {},
   "source": [
    "## Ребалансировка"
   ]
  },
  {
   "cell_type": "code",
   "execution_count": null,
   "id": "7948b8a3-d712-4e67-9dd4-283234bc0db0",
   "metadata": {},
   "outputs": [],
   "source": [
    "# Сколько дней бэктеста всего\n",
    "backPeriodAll = (df_h_log[selected_portfolio].index[-1] - df_h_log[selected_portfolio][testSTART:].index[0]).days\n",
    "\n",
    "# Раз в сколько дней делать ребалансировку (раз в день)\n",
    "reFreq = 7  #  ребалансировка\n",
    "\n",
    "# Формируем все даты ребалансировки\n",
    "reDates = pd.date_range(start=testSTART, end=df_h_log[selected_portfolio].index[-1], freq=f'{reFreq}D')\n",
    "\n",
    "print(reDates)"
   ]
  },
  {
   "cell_type": "code",
   "execution_count": null,
   "id": "5cf303e7-6cab-42f2-a540-a3f39433581d",
   "metadata": {},
   "outputs": [],
   "source": [
    "import numpy as np\n",
    "import pandas as pd\n",
    "\n",
    "# Параметры\n",
    "period_ret = 24 * 30 * 3\n",
    "iterNum = 5000    # Количество случайных портфелей\n",
    "assetsNum = len(df[selected_portfolio].columns)  # Количество активов\n",
    "reWindow = 30 * 12      # Окно обучения для ребалансировки (в днях) 560\n",
    "rePortfs = {}     # Словарь для хранения оптимальных портфелей\n",
    "\n",
    "# Генерация случайных портфелей для каждой даты ребалансировки\n",
    "for d in range(len(reDates)):\n",
    "    # Определяем окно обучения для текущей даты ребалансировки\n",
    "    start_date = reDates[d] - pd.Timedelta(days=reWindow)  # Начало окна\n",
    "    end_date = reDates[d]  # Конец окна\n",
    "    retrain_df = df_h_log[selected_portfolio].loc[start_date:end_date]  # Данные за окно\n",
    "\n",
    "    all_portf = np.zeros((iterNum, assetsNum))  # Все портфели\n",
    "    ret_arr = np.zeros(iterNum)  # Доходность\n",
    "    vol_arr = np.zeros(iterNum)  # Волатильность\n",
    "    sharpe_arr = np.zeros(iterNum)  # Коэффициент Шарпа\n",
    "\n",
    "    for x in range(iterNum):\n",
    "        # Генерация случайных весов портфеля\n",
    "        portf = np.random.random(assetsNum)\n",
    "        portf = portf / np.sum(portf)  # Нормализация весов до суммы = 1\n",
    "        \n",
    "        all_portf[x, :] = portf  # Сохраняем веса\n",
    "        \n",
    "        # Расчет доходности\n",
    "        ret_arr[x] = np.sum((retrain_df[selected_portfolio].mean() * portf) * period_ret)\n",
    "        \n",
    "        # Расчет волатильности\n",
    "        vol_arr[x] = np.sqrt(np.dot(portf.T, np.dot(retrain_df[selected_portfolio].cov() * period_ret, portf)))\n",
    "        \n",
    "        # Расчет коэффициента Шарпа\n",
    "        sharpe_arr[x] = ret_arr[x] / vol_arr[x]\n",
    "    \n",
    "    # Находим портфель с максимальным коэффициентом Шарпа\n",
    "    max_sharpe_idx = sharpe_arr.argmax()\n",
    "    max_sharpe_portf = all_portf[max_sharpe_idx, :]\n",
    "    max_sharpe_ret = ret_arr[max_sharpe_idx]\n",
    "    max_sharpe_vol = vol_arr[max_sharpe_idx]\n",
    "\n",
    "    # Сохраняем оптимальный портфель для текущей даты ребалансировки\n",
    "    rePortfs[reDates[d]] = list(max_sharpe_portf)\n",
    "\n",
    "    # Выводим информацию о текущей итерации\n",
    "    print(f\"Дата ребалансировки: {reDates[d]}\")\n",
    "    print(f\"Максимальный коэффициент Шарпа: {sharpe_arr.max():.4f}\")\n",
    "    print(f\"Оптимальные веса: {max_sharpe_portf}\")\n",
    "    print(\"=\" * 30)"
   ]
  },
  {
   "cell_type": "code",
   "execution_count": null,
   "id": "133003f2-0fb2-49f7-93bb-5dcb8bf59969",
   "metadata": {},
   "outputs": [],
   "source": [
    "import pandas as pd\n",
    "import numpy as np\n",
    "import matplotlib.pyplot as plt\n",
    "\n",
    "# Визуализация на процентной доходности\n",
    "retest_din = None  # Инициализируем переменную для хранения результатов\n",
    "\n",
    "for d in range(len(reDates)):\n",
    "    # Определяем временной интервал для текущего периода тестирования\n",
    "    start_date = reDates[d]\n",
    "    if d < len(reDates) - 1:\n",
    "        end_date = reDates[d + 1]\n",
    "    else:\n",
    "        end_date = None  # Если это последний период, берем данные до конца\n",
    "    \n",
    "    # Берем данные за текущий период\n",
    "    retest_df = df_h_pct[selected_portfolio].loc[start_date:end_date]\n",
    "    \n",
    "    # Вычисляем доходность портфеля с учетом оптимальных весов\n",
    "    portfolio_return = np.matmul(retest_df, rePortfs[reDates[d]])\n",
    "    \n",
    "    # Накопленная доходность (cumsum)\n",
    "    cumulative_return = pd.Series(portfolio_return).cumsum()\n",
    "    \n",
    "    # Объединяем данные\n",
    "    if retest_din is None:\n",
    "        retest_din = cumulative_return\n",
    "    else:\n",
    "        retest_din = pd.concat([retest_din, cumulative_return])\n",
    "\n",
    "# Визуализация\n",
    "plt.figure(figsize=(12, 8))\n",
    "retest_din.plot(color='green', linewidth=2)\n",
    "plt.title('Cumulative Portfolio Return')\n",
    "plt.ylabel('Return')\n",
    "plt.xlabel('Date')\n",
    "plt.grid()\n",
    "plt.axhline(y=0, color='black')  # Горизонтальная линия на уровне 0\n",
    "plt.show()"
   ]
  },
  {
   "cell_type": "code",
   "execution_count": null,
   "id": "bc2624e2-24e7-433f-9255-703cf27c8840",
   "metadata": {},
   "outputs": [],
   "source": [
    "# Доходность портфеля за период\n",
    "print('Доходность портфеля за период {:.2%}'.format(retest_din[-1]))\n",
    "# Шарп\n",
    "print('Коэффициент Шарпа {:.2f}'.format(retest_din[-1] / retest_din.std()))"
   ]
  },
  {
   "cell_type": "code",
   "execution_count": null,
   "id": "48a9ff86-d8bc-4512-95f6-a9c9f7e04ce4",
   "metadata": {},
   "outputs": [],
   "source": [
    "pd.DataFrame(rePortfs).T.plot(kind='bar', figsize=(12,8))\n",
    "plt.legend(selected_portfolio)\n",
    "plt.grid(axis='y')\n",
    "plt.ylabel('Portfolio shares')\n",
    "plt.xlabel('Rebalancing points')\n",
    "plt.show()"
   ]
  },
  {
   "cell_type": "code",
   "execution_count": null,
   "id": "17a975d9-a258-492d-b014-43d53579e936",
   "metadata": {},
   "outputs": [],
   "source": [
    "rePortfs"
   ]
  },
  {
   "cell_type": "code",
   "execution_count": null,
   "id": "d2b6415a",
   "metadata": {},
   "outputs": [],
   "source": [
    "import os\n",
    "import pandas as pd\n",
    "\n",
    "# Конфигурация\n",
    "DATA_DIR = \"../data\"\n",
    "MODELS_PREDICTION_DIR = os.path.join(DATA_DIR, \"models_predictions\")\n",
    "os.makedirs(MODELS_PREDICTION_DIR, exist_ok=True)\n",
    "\n",
    "\n",
    "# Преобразование данных в DataFrame\n",
    "df = pd.DataFrame.from_dict(rePortfs, orient='index', columns=[\"APTUSDT\", \"CAKEUSDT\", \"HBARUSDT\", \"JUPUSDT\", \"PEPEUSDT\", \"STRKUSDT\", \"USDCUSDT\"])\n",
    "df.index.name = \"date\"\n",
    "\n",
    "# Сохранение в CSV\n",
    "output_file = os.path.join(MODELS_PREDICTION_DIR, \"model_markowitz_actions.csv\")\n",
    "df.to_csv(output_file)\n",
    "\n",
    "print(f\"Файл успешно сохранен: {output_file}\")"
   ]
  },
  {
   "cell_type": "code",
   "execution_count": null,
   "id": "945af42a",
   "metadata": {},
   "outputs": [],
   "source": []
  }
 ],
 "metadata": {
  "kernelspec": {
   "display_name": ".venv",
   "language": "python",
   "name": "python3"
  },
  "language_info": {
   "codemirror_mode": {
    "name": "ipython",
    "version": 3
   },
   "file_extension": ".py",
   "mimetype": "text/x-python",
   "name": "python",
   "nbconvert_exporter": "python",
   "pygments_lexer": "ipython3",
   "version": "3.10.11"
  }
 },
 "nbformat": 4,
 "nbformat_minor": 5
}
