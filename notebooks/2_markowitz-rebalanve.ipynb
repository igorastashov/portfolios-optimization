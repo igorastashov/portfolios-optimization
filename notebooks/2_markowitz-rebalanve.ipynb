{
 "cells": [
  {
   "cell_type": "code",
   "execution_count": 1,
   "id": "e29e57de-d958-4373-81ad-c119f4edeb47",
   "metadata": {
    "scrolled": true
   },
   "outputs": [],
   "source": [
    "import pandas as pd\n",
    "import numpy as np\n",
    "\n",
    "import matplotlib.pyplot as plt"
   ]
  },
  {
   "cell_type": "code",
   "execution_count": 2,
   "id": "bd249725-5934-41bd-9fe3-54d4de42ebe6",
   "metadata": {},
   "outputs": [],
   "source": [
    "# trainEND = '2024-12-31'\n",
    "# testSTART = '2025-01-01'"
   ]
  },
  {
   "cell_type": "code",
   "execution_count": 3,
   "id": "4418d06e-3a20-4d4c-897d-342217b91d36",
   "metadata": {},
   "outputs": [],
   "source": [
    "# import datetime\n",
    "\n",
    "# # принимает строку, приращивает дату, возвращает строку\n",
    "# # по умолчанию возвращает следующий день\n",
    "# def NextDay(date_str, delta=1):\n",
    "#     date_time = datetime.datetime.strptime(date_str, \"%Y-%m-%d\").date() + datetime.timedelta(days=delta)\n",
    "#     return date_time.strftime(\"%Y-%m-%d\")"
   ]
  },
  {
   "cell_type": "code",
   "execution_count": null,
   "id": "55a9c4a4-5937-4740-ad2a-41b854e1f80c",
   "metadata": {},
   "outputs": [],
   "source": [
    "import os\n",
    "import pandas as pd\n",
    "import numpy as np\n",
    "\n",
    "# Путь к папке с данными\n",
    "data_dir = \"../data\"\n",
    "\n",
    "# Чтение данных из файла data_compare_eda.csv в папке data\n",
    "file_path = os.path.join(data_dir, \"data_compare_eda.csv\")\n",
    "df = pd.read_csv(file_path, parse_dates=True, index_col=0)\n",
    "\n",
    "# Список тикеров\n",
    "tickers = [\"BNBUSDT\", \"BTCUSDT\", \"CAKEUSDT\", \"ETHUSDT\",\n",
    "           \"LTCUSDT\", \"SOLUSDT\", \"STRKUSDT\", \"TONUSDT\",\n",
    "           \"USDCUSDT\", \"XRPUSDT\", \"PEPEUSDT\",\n",
    "           \"HBARUSDT\", \"APTUSDT\", \"LDOUSDT\", \"JUPUSDT\"]\n",
    "\n",
    "# Переименовываем колонки в соответствии со списком тикеров\n",
    "df.columns = tickers\n",
    "\n",
    "# Заполняем пропуски последними известными значениями (forward fill)\n",
    "df_h = df.fillna(method='ffill').resample('h').ffill()\n",
    "\n",
    "# Вычисляем относительные изменения (процентное изменение)\n",
    "df_h_pct = df_h.pct_change().iloc[1:]\n",
    "\n",
    "# Вычисляем логарифмическую доходность\n",
    "df_h_log = np.log(df_h / df_h.shift(1)).iloc[1:]\n",
    "\n",
    "# Выводим первые строки логарифмической доходности\n",
    "print(df_h_log.head())"
   ]
  },
  {
   "cell_type": "code",
   "execution_count": 6,
   "id": "2b6aca32-6cfe-4e10-8910-2c3f673e825f",
   "metadata": {},
   "outputs": [],
   "source": [
    "selected_portfolio = ['JUPUSDT', 'PEPEUSDT', 'APTUSDT', 'CAKEUSDT', 'HBARUSDT', 'STRKUSDT', 'USDCUSDT'] # 'XRPUSDT'"
   ]
  },
  {
   "cell_type": "code",
   "execution_count": 7,
   "id": "10ba6a92-c8c8-47aa-a8f0-0dec28188ce2",
   "metadata": {},
   "outputs": [],
   "source": [
    "df_h_log = df_h_log[selected_portfolio].dropna().copy()"
   ]
  },
  {
   "cell_type": "code",
   "execution_count": null,
   "id": "5ee50537-6591-40c9-80e2-2fe2a9a12e6a",
   "metadata": {},
   "outputs": [],
   "source": [
    "df_h_log"
   ]
  },
  {
   "cell_type": "code",
   "execution_count": 9,
   "id": "e855f044-add9-4ecf-9d46-1ce1b01bac64",
   "metadata": {},
   "outputs": [],
   "source": [
    "train_size = int(len(df_h_log) * 0.8)  # 80% данных для обучения\n",
    "train_df = df_h_log.iloc[:train_size]\n",
    "test_df = df_h_log.iloc[train_size:]\n",
    "\n",
    "trainEND = df_h_log.index[train_size - 1]  # Последняя дата в обучающей выборке\n",
    "testSTART = df_h_log.index[train_size]\n",
    "\n",
    "# train_df = df_h_log[:trainEND]\n",
    "# test_df = df_h_log[testSTART:]"
   ]
  },
  {
   "cell_type": "code",
   "execution_count": 10,
   "id": "d551d0ee-cb90-4050-831a-c6827044b1a8",
   "metadata": {},
   "outputs": [],
   "source": [
    "# Шаг 1: Обработка пропущенных значений\n",
    "train_df = train_df.interpolate(method='linear', axis=0)  # Линейная интерполяция\n",
    "train_df = train_df.fillna(0)  # Заполнение оставшихся пропусков нулями\n",
    "\n",
    "# Шаг 2: Проверка, что все активы имеют достаточное количество данных\n",
    "min_obs = len(train_df) * 0.8  # Минимум 80% данных\n",
    "train_df = train_df.loc[:, train_df.count() >= min_obs]\n",
    "\n",
    "# Шаг 3: Вычисление метрик портфеля\n",
    "assetsNum = len(train_df.columns)\n",
    "iterNum = 10000\n",
    "\n",
    "all_portf = np.zeros((iterNum, assetsNum))\n",
    "ret_arr = np.zeros(iterNum)\n",
    "vol_arr = np.zeros(iterNum)\n",
    "sharpe_arr = np.zeros(iterNum)\n",
    "\n",
    "for x in range(iterNum):\n",
    "    portf = np.random.dirichlet(np.ones(assetsNum), size=1)[0]  # Генерация случайного портфеля\n",
    "    \n",
    "    all_portf[x, :] = portf\n",
    "    \n",
    "    ret_arr[x] = np.sum(train_df.mean() * portf)  # Ожидаемая доходность портфеля\n",
    "    \n",
    "    vol_arr[x] = np.sqrt(np.dot(portf.T, np.dot(train_df.cov(), portf)))  # Волатильность портфеля\n",
    "    \n",
    "    sharpe_arr[x] = ret_arr[x] / vol_arr[x]  # Коэффициент Шарпа"
   ]
  },
  {
   "cell_type": "code",
   "execution_count": null,
   "id": "dceb451b-8718-46e4-a2d8-ab57344b4735",
   "metadata": {},
   "outputs": [],
   "source": [
    "max_sharpe_portf = sharpe_arr.argmax()\n",
    "max_sharpe_ret = ret_arr[sharpe_arr.argmax()]\n",
    "max_sharpe_vol = vol_arr[sharpe_arr.argmax()]\n",
    "\n",
    "print(sharpe_arr.max())\n",
    "print(max_sharpe_portf)\n",
    "print(all_portf[max_sharpe_portf, :])"
   ]
  },
  {
   "cell_type": "code",
   "execution_count": null,
   "id": "651fe975-1831-4804-96ae-2a76a911240e",
   "metadata": {},
   "outputs": [],
   "source": [
    "plt.figure(figsize=(12,8))\n",
    "plt.scatter(vol_arr, ret_arr, c=sharpe_arr, cmap='viridis')\n",
    "plt.colorbar(label='Sharpe Ratio')\n",
    "plt.xlabel('Volatility')\n",
    "plt.ylabel('Return')\n",
    "plt.scatter(max_sharpe_vol, max_sharpe_ret, c='red')\n",
    "plt.grid()\n",
    "plt.show()"
   ]
  },
  {
   "cell_type": "code",
   "execution_count": null,
   "id": "efe41c67-02ec-4736-af87-80365a8ddf86",
   "metadata": {},
   "outputs": [],
   "source": [
    "plt.figure(figsize=(12,8))\n",
    "plt.ylabel('Return')\n",
    "np.matmul(df_h_pct[selected_portfolio][:trainEND], all_portf[max_sharpe_portf, :]).cumsum().plot(color='green', linewidth=2)\n",
    "plt.grid()\n",
    "plt.show()"
   ]
  },
  {
   "cell_type": "code",
   "execution_count": null,
   "id": "81e78a58-ee24-4822-968d-eb1cbb02ddfd",
   "metadata": {},
   "outputs": [],
   "source": [
    "# бэктест\n",
    "plt.figure(figsize=(12,8))\n",
    "plt.ylabel('Return')\n",
    "np.matmul(df_h_pct[selected_portfolio][testSTART:], all_portf[max_sharpe_portf, :]).cumsum().plot(color='maroon', linewidth=2)\n",
    "plt.grid()\n",
    "plt.show()"
   ]
  },
  {
   "cell_type": "code",
   "execution_count": 15,
   "id": "1af84ba3-f945-4fb6-a289-80afb026539a",
   "metadata": {},
   "outputs": [],
   "source": [
    "# доходность\n",
    "period_ret = 24"
   ]
  },
  {
   "cell_type": "code",
   "execution_count": 16,
   "id": "71cf0056-4bda-4416-987c-56477e3af471",
   "metadata": {},
   "outputs": [],
   "source": [
    "# возвращает прибыль, волатильность и коэффициент Шарпа для любого портфеля\n",
    "def get_params(portf):\n",
    "    portf = np.array(portf)\n",
    "    ret = np.sum(df_h_log.mean() * portf) * period_ret\n",
    "    vol = np.sqrt(np.dot(portf.T, np.dot(df_h_log.cov()*period_ret, portf)))\n",
    "    shrp = ret/vol\n",
    "    return np.array([ret, vol, shrp])\n",
    "\n",
    "# вовзращает отрицательный кэф. Шарпа, чтобы решать задачу минимизации\n",
    "def neg_sharpe(portf):\n",
    "    return get_params(portf)[2] * -1\n",
    "\n",
    "# проверка на валидность: возвращает 0, если сумма равна 1\n",
    "def check_valid(portf):\n",
    "    return np.sum(portf) - 1"
   ]
  },
  {
   "cell_type": "code",
   "execution_count": 17,
   "id": "7ef3aa37-b101-4c07-9867-5e270906ab2a",
   "metadata": {},
   "outputs": [],
   "source": [
    "cons = ({'type': 'eq', 'fun': check_valid})\n",
    "bounds = tuple([(0, 1) for _ in range(assetsNum)])\n",
    "init_portf = [1/assetsNum for _ in range(assetsNum)]"
   ]
  },
  {
   "cell_type": "code",
   "execution_count": null,
   "id": "cfd727f7-0901-41f7-bc5e-14e5b86e669d",
   "metadata": {},
   "outputs": [],
   "source": [
    "# поиск оптимального портфеля с помощью МНК\n",
    "from scipy.optimize import minimize\n",
    "res = minimize(neg_sharpe, init_portf, method='SLSQP', bounds=bounds, constraints=cons)\n",
    "print(res)"
   ]
  },
  {
   "cell_type": "code",
   "execution_count": null,
   "id": "9383fe81-d754-431e-99f4-a588786723d1",
   "metadata": {},
   "outputs": [],
   "source": [
    "get_params(res.x)"
   ]
  },
  {
   "cell_type": "markdown",
   "id": "2b3be67a-fa9f-426e-9c05-3ada88817715",
   "metadata": {},
   "source": [
    "## Визуализация границ"
   ]
  },
  {
   "cell_type": "code",
   "execution_count": 20,
   "id": "7af88cd0-0a3b-442e-9639-88ae38a9deda",
   "metadata": {},
   "outputs": [],
   "source": [
    "def minimize_vol(portf):\n",
    "    return get_params(portf)[1]"
   ]
  },
  {
   "cell_type": "code",
   "execution_count": 21,
   "id": "cb318303-001b-4c79-9967-7363eceac2b4",
   "metadata": {},
   "outputs": [],
   "source": [
    "frontier_x = []\n",
    "frontier_y = np.linspace(0, 0.6, 200)\n",
    "\n",
    "for y in frontier_y:\n",
    "    cons = ({'type':'eq', 'fun': check_valid},\n",
    "            {'type':'eq', 'fun': lambda w: get_params(w)[0] - y})\n",
    "    \n",
    "    result = minimize(minimize_vol, init_portf, method='SLSQP', bounds=bounds, constraints=cons)\n",
    "    frontier_x.append(result['fun'])"
   ]
  },
  {
   "cell_type": "code",
   "execution_count": null,
   "id": "fc0b7c81-d6f9-4f97-a3ca-5c156a42682b",
   "metadata": {},
   "outputs": [],
   "source": [
    "plt.figure(figsize=(12,8))\n",
    "plt.scatter(vol_arr, ret_arr, c=sharpe_arr, cmap='viridis')\n",
    "plt.colorbar(label='Sharpe Ratio')\n",
    "plt.xlabel('Volatility')\n",
    "plt.ylabel('Return')\n",
    "plt.plot(frontier_x, frontier_y, 'r--', linewidth=3)\n",
    "plt.show()"
   ]
  },
  {
   "cell_type": "markdown",
   "id": "d0d78003-d965-48ce-84f8-793a80217ea4",
   "metadata": {},
   "source": [
    "## Динамика по портфелю + тестирование"
   ]
  },
  {
   "cell_type": "code",
   "execution_count": 23,
   "id": "c6516c64-b9bd-47d3-8152-d684adaeee6f",
   "metadata": {},
   "outputs": [],
   "source": [
    "train_din = np.matmul(df_h_pct[selected_portfolio][:trainEND], res.x).cumsum() \n",
    "test_din = np.matmul(df_h_pct[selected_portfolio][testSTART:], res.x).cumsum() "
   ]
  },
  {
   "cell_type": "code",
   "execution_count": null,
   "id": "250c07e8-a6bd-4375-907f-82f885166104",
   "metadata": {},
   "outputs": [],
   "source": [
    "plt.figure(figsize=(12,8))\n",
    "train_din.plot(linewidth=2)\n",
    "plt.title('Суммарная прибыль')\n",
    "plt.ylabel('Return')\n",
    "plt.grid()\n",
    "plt.axhline(y=0, color='black')\n",
    "plt.show()"
   ]
  },
  {
   "cell_type": "code",
   "execution_count": null,
   "id": "f9f110f3-d2ba-4c2d-96d8-bf1949bebd2d",
   "metadata": {},
   "outputs": [],
   "source": [
    "plt.figure(figsize=(12,8))\n",
    "test_din.plot(linewidth=2)\n",
    "plt.title('Суммарная прибыль - test')\n",
    "plt.ylabel('Return')\n",
    "plt.grid()\n",
    "plt.axhline(y=0, color='black')\n",
    "plt.show()"
   ]
  },
  {
   "cell_type": "code",
   "execution_count": 26,
   "id": "ee6e1627-6da5-4975-9d67-150c1d946cdd",
   "metadata": {},
   "outputs": [],
   "source": [
    "np.matmul(df_h_pct[selected_portfolio][testSTART:], res.x).to_csv('./markowitz_return_series.csv')"
   ]
  },
  {
   "cell_type": "code",
   "execution_count": null,
   "id": "f02ef204-5675-4df0-9501-7c5848035b69",
   "metadata": {},
   "outputs": [],
   "source": [
    "# Доходность портфеля за период\n",
    "print('Доходность портфеля за период {:.2%}'.format(test_din[-1]))\n",
    "# Шарп\n",
    "print('Коэффициент Шарпа {:.2f}'.format(test_din[-1] / test_din.std()))"
   ]
  },
  {
   "cell_type": "markdown",
   "id": "6421b038-9435-4fc2-9d85-dcf4855d0955",
   "metadata": {},
   "source": [
    "## Ребалансировка"
   ]
  },
  {
   "cell_type": "code",
   "execution_count": null,
   "id": "7948b8a3-d712-4e67-9dd4-283234bc0db0",
   "metadata": {},
   "outputs": [],
   "source": [
    "# Сколько дней бэктеста всего\n",
    "backPeriodAll = (df_h_log[selected_portfolio].index[-1] - df_h_log[selected_portfolio][testSTART:].index[0]).days\n",
    "\n",
    "# Раз в сколько дней делать ребалансировку (раз в день)\n",
    "reFreq = 7  #  ребалансировка\n",
    "\n",
    "# Формируем все даты ребалансировки\n",
    "reDates = pd.date_range(start=testSTART, end=df_h_log[selected_portfolio].index[-1], freq=f'{reFreq}D')\n",
    "\n",
    "print(reDates)"
   ]
  },
  {
   "cell_type": "code",
   "execution_count": null,
   "id": "5cf303e7-6cab-42f2-a540-a3f39433581d",
   "metadata": {},
   "outputs": [],
   "source": [
    "import numpy as np\n",
    "import pandas as pd\n",
    "\n",
    "# Параметры\n",
    "period_ret = 24 * 30 * 3\n",
    "iterNum = 5000    # Количество случайных портфелей\n",
    "assetsNum = len(df[selected_portfolio].columns)  # Количество активов\n",
    "reWindow = 30 * 12      # Окно обучения для ребалансировки (в днях) 560\n",
    "rePortfs = {}     # Словарь для хранения оптимальных портфелей\n",
    "\n",
    "# Генерация случайных портфелей для каждой даты ребалансировки\n",
    "for d in range(len(reDates)):\n",
    "    # Определяем окно обучения для текущей даты ребалансировки\n",
    "    start_date = reDates[d] - pd.Timedelta(days=reWindow)  # Начало окна\n",
    "    end_date = reDates[d]  # Конец окна\n",
    "    retrain_df = df_h_log[selected_portfolio].loc[start_date:end_date]  # Данные за окно\n",
    "\n",
    "    all_portf = np.zeros((iterNum, assetsNum))  # Все портфели\n",
    "    ret_arr = np.zeros(iterNum)  # Доходность\n",
    "    vol_arr = np.zeros(iterNum)  # Волатильность\n",
    "    sharpe_arr = np.zeros(iterNum)  # Коэффициент Шарпа\n",
    "\n",
    "    for x in range(iterNum):\n",
    "        # Генерация случайных весов портфеля\n",
    "        portf = np.random.random(assetsNum)\n",
    "        portf = portf / np.sum(portf)  # Нормализация весов до суммы = 1\n",
    "        \n",
    "        all_portf[x, :] = portf  # Сохраняем веса\n",
    "        \n",
    "        # Расчет доходности\n",
    "        ret_arr[x] = np.sum((retrain_df[selected_portfolio].mean() * portf) * period_ret)\n",
    "        \n",
    "        # Расчет волатильности\n",
    "        vol_arr[x] = np.sqrt(np.dot(portf.T, np.dot(retrain_df[selected_portfolio].cov() * period_ret, portf)))\n",
    "        \n",
    "        # Расчет коэффициента Шарпа\n",
    "        sharpe_arr[x] = ret_arr[x] / vol_arr[x]\n",
    "    \n",
    "    # Находим портфель с максимальным коэффициентом Шарпа\n",
    "    max_sharpe_idx = sharpe_arr.argmax()\n",
    "    max_sharpe_portf = all_portf[max_sharpe_idx, :]\n",
    "    max_sharpe_ret = ret_arr[max_sharpe_idx]\n",
    "    max_sharpe_vol = vol_arr[max_sharpe_idx]\n",
    "\n",
    "    # Сохраняем оптимальный портфель для текущей даты ребалансировки\n",
    "    rePortfs[reDates[d]] = list(max_sharpe_portf)\n",
    "\n",
    "    # Выводим информацию о текущей итерации\n",
    "    print(f\"Дата ребалансировки: {reDates[d]}\")\n",
    "    print(f\"Максимальный коэффициент Шарпа: {sharpe_arr.max():.4f}\")\n",
    "    print(f\"Оптимальные веса: {max_sharpe_portf}\")\n",
    "    print(\"=\" * 30)"
   ]
  },
  {
   "cell_type": "code",
   "execution_count": null,
   "id": "133003f2-0fb2-49f7-93bb-5dcb8bf59969",
   "metadata": {},
   "outputs": [],
   "source": [
    "import pandas as pd\n",
    "import numpy as np\n",
    "import matplotlib.pyplot as plt\n",
    "\n",
    "# Визуализация на процентной доходности\n",
    "retest_din = None  # Инициализируем переменную для хранения результатов\n",
    "\n",
    "for d in range(len(reDates)):\n",
    "    # Определяем временной интервал для текущего периода тестирования\n",
    "    start_date = reDates[d]\n",
    "    if d < len(reDates) - 1:\n",
    "        end_date = reDates[d + 1]\n",
    "    else:\n",
    "        end_date = None  # Если это последний период, берем данные до конца\n",
    "    \n",
    "    # Берем данные за текущий период\n",
    "    retest_df = df_h_pct[selected_portfolio].loc[start_date:end_date]\n",
    "    \n",
    "    # Вычисляем доходность портфеля с учетом оптимальных весов\n",
    "    portfolio_return = np.matmul(retest_df, rePortfs[reDates[d]])\n",
    "    \n",
    "    # Накопленная доходность (cumsum)\n",
    "    cumulative_return = pd.Series(portfolio_return).cumsum()\n",
    "    \n",
    "    # Объединяем данные\n",
    "    if retest_din is None:\n",
    "        retest_din = cumulative_return\n",
    "    else:\n",
    "        retest_din = pd.concat([retest_din, cumulative_return])\n",
    "\n",
    "# Визуализация\n",
    "plt.figure(figsize=(12, 8))\n",
    "retest_din.plot(color='green', linewidth=2)\n",
    "plt.title('Cumulative Portfolio Return')\n",
    "plt.ylabel('Return')\n",
    "plt.xlabel('Date')\n",
    "plt.grid()\n",
    "plt.axhline(y=0, color='black')  # Горизонтальная линия на уровне 0\n",
    "plt.show()"
   ]
  },
  {
   "cell_type": "code",
   "execution_count": null,
   "id": "bc2624e2-24e7-433f-9255-703cf27c8840",
   "metadata": {},
   "outputs": [],
   "source": [
    "# Доходность портфеля за период\n",
    "print('Доходность портфеля за период {:.2%}'.format(retest_din[-1]))\n",
    "# Шарп\n",
    "print('Коэффициент Шарпа {:.2f}'.format(retest_din[-1] / retest_din.std()))"
   ]
  },
  {
   "cell_type": "code",
   "execution_count": null,
   "id": "48a9ff86-d8bc-4512-95f6-a9c9f7e04ce4",
   "metadata": {},
   "outputs": [],
   "source": [
    "pd.DataFrame(rePortfs).T.plot(kind='bar', figsize=(12,8))\n",
    "plt.legend(selected_portfolio)\n",
    "plt.grid(axis='y')\n",
    "plt.ylabel('Portfolio shares')\n",
    "plt.xlabel('Rebalancing points')\n",
    "plt.show()"
   ]
  },
  {
   "cell_type": "code",
   "execution_count": null,
   "id": "17a975d9-a258-492d-b014-43d53579e936",
   "metadata": {},
   "outputs": [],
   "source": []
  }
 ],
 "metadata": {
  "kernelspec": {
   "display_name": ".venv",
   "language": "python",
   "name": "python3"
  },
  "language_info": {
   "codemirror_mode": {
    "name": "ipython",
    "version": 3
   },
   "file_extension": ".py",
   "mimetype": "text/x-python",
   "name": "python",
   "nbconvert_exporter": "python",
   "pygments_lexer": "ipython3",
   "version": "3.10.11"
  }
 },
 "nbformat": 4,
 "nbformat_minor": 5
}
