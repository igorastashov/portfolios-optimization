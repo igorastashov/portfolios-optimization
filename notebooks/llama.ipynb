{
 "cells": [
  {
   "cell_type": "code",
   "execution_count": 1,
   "metadata": {},
   "outputs": [],
   "source": [
    "from IPython.display import clear_output"
   ]
  },
  {
   "cell_type": "code",
   "execution_count": 2,
   "metadata": {},
   "outputs": [
    {
     "name": "stdout",
     "output_type": "stream",
     "text": [
      "time: 0 ns (started: 2025-05-01 02:31:13 +07:00)\n"
     ]
    }
   ],
   "source": [
    "%load_ext autotime\n",
    "clear_output()"
   ]
  },
  {
   "cell_type": "code",
   "execution_count": 4,
   "metadata": {},
   "outputs": [
    {
     "name": "stdout",
     "output_type": "stream",
     "text": [
      "Process ID: 18920\n",
      "time: 5.02 s (started: 2025-05-01 02:32:42 +07:00)\n"
     ]
    }
   ],
   "source": [
    "import subprocess\n",
    "import time\n",
    "\n",
    "# Start ollama as a backrgound process\n",
    "command = \"nohup ollama serve&\"\n",
    "\n",
    "# Use subprocess.Popen to start the process in the background\n",
    "process = subprocess.Popen(command,\n",
    "                            shell=True,\n",
    "                           stdout=subprocess.PIPE,\n",
    "                           stderr=subprocess.PIPE)\n",
    "print(\"Process ID:\", process.pid)\n",
    "# Let's use fly.io resources\n",
    "#!OLLAMA_HOST=https://ollama-demo.fly.dev:443\n",
    "time.sleep(5)  # Makes Python wait for 5 seconds"
   ]
  },
  {
   "cell_type": "code",
   "execution_count": 6,
   "metadata": {},
   "outputs": [
    {
     "name": "stdout",
     "output_type": "stream",
     "text": [
      "time: 15 ms (started: 2025-05-01 02:33:11 +07:00)\n"
     ]
    },
    {
     "name": "stderr",
     "output_type": "stream",
     "text": [
      "'ollama' is not recognized as an internal or external command,\n",
      "operable program or batch file.\n"
     ]
    }
   ],
   "source": [
    "!ollama --version"
   ]
  },
  {
   "cell_type": "code",
   "execution_count": 12,
   "metadata": {},
   "outputs": [
    {
     "name": "stdout",
     "output_type": "stream",
     "text": [
      "llama3\n",
      "time: 31 ms (started: 2025-05-01 02:35:52 +07:00)\n"
     ]
    }
   ],
   "source": [
    "# Setup the target model globally\n",
    "#OLLAMA_MODEL='zephyr'\n",
    "#OLLAMA_MODEL='dolphin2.2-mistral:7b'\n",
    "#OLLAMA_MODEL='neural-chat:7b'\n",
    "#OLLAMA_MODEL='tinyllama'\n",
    "#OLLAMA_MODEL='nous-hermes:7b'\n",
    "#OLLAMA_MODEL='openhermes2-mistral:7b'\n",
    "#OLLAMA_MODEL='ifioravanti/neuralbeagle14-7b'\n",
    "#OLLAMA_MODEL='ifioravanti/alphamonarch'\n",
    "#OLLAMA_MODEL='gemma:2b'\n",
    "##OLLAMA_MODEL='gemma:7b'\n",
    "#OLLAMA_MODEL='adrienbrault/nous-hermes2pro:Q5_K_S'\n",
    "#OLLAMA_MODEL='dolphin-mistral:v2.8'\n",
    "OLLAMA_MODEL='llama3'\n",
    "# OLLAMA_MODEL='phi3:mini'\n",
    "# OLLAMA_MODEL='qwen2:1.5b'\n",
    "# Set it at the OS level\n",
    "import os\n",
    "os.environ['OLLAMA_MODEL'] = OLLAMA_MODEL\n",
    "!echo $OLLAMA_MODEL"
   ]
  },
  {
   "cell_type": "code",
   "execution_count": 13,
   "metadata": {},
   "outputs": [
    {
     "name": "stdout",
     "output_type": "stream",
     "text": [
      "time: 16 ms (started: 2025-05-01 02:35:53 +07:00)\n"
     ]
    }
   ],
   "source": [
    "!ollama run $OLLAMA_MODEL \"Say something fun about open source AI.\"\n",
    "clear_output()"
   ]
  },
  {
   "cell_type": "code",
   "execution_count": 14,
   "metadata": {},
   "outputs": [
    {
     "name": "stdout",
     "output_type": "stream",
     "text": [
      "time: 0 ns (started: 2025-05-01 02:35:54 +07:00)\n"
     ]
    }
   ],
   "source": [
    "OLLAMA_SERVER = 'http://127.0.0.1:11434'"
   ]
  },
  {
   "cell_type": "code",
   "execution_count": 15,
   "metadata": {},
   "outputs": [
    {
     "name": "stdout",
     "output_type": "stream",
     "text": [
      "I'd be happy to help you collect the building information from the markdown. Here's the step-by-step process:\n",
      "\n",
      "**1. Collect key highlights information:**\n",
      "\n",
      "* Key highlights:\n",
      "\t+ Not subject to LA City rent control\n",
      "\t+ Prime Sherman Oaks location on major thoroughfare\n",
      "\t+ Spacious townhouse units average over 970 Square feet\n",
      "\t+ Over 15% rental upside\n",
      "\n",
      "**2. Collect property facts and details:**\n",
      "\n",
      "* Property Facts:\n",
      "\t+ Price: $3,275,000\n",
      "\t+ Price Per Unit: $363,889\n",
      "\t+ Sale Type: Investment\n",
      "\t+ Cap Rate: 4.48%\n",
      "\t+ Gross Rent Multiplier: 14.7\n",
      "\t+ No. Units: 9\n",
      "\t+ Property Type: Multifamily\n",
      "\t+ Property Subtype: Apartment\n",
      "\t+ Apartment Style: Townhome\n",
      "\t+ Building Class: C\n",
      "\t+ Lot Size: 0.18 AC\n",
      "\t+ Building Size: 8,763 SF\n",
      "\t+ Average Occupancy: 100%\n",
      "\t+ No. Stories: 3\n",
      "\t+ Year Built: 1981\n",
      "\t+ Parking Ratio: 1.6/1,000 SF\n",
      "\n",
      "**3. Collect unit amenities:**\n",
      "\n",
      "* Unit Amenities:\n",
      "\t+ Balcony\n",
      "\t+ Vaulted Ceiling\n",
      "\t+ Breakfast Nook\n",
      "\t+ Deck\n",
      "\t+ Family Room\n",
      "\t+ Living Room\n",
      "\n",
      "**4. Collect building features:**\n",
      "\n",
      "* Building Features:\n",
      "\t+ Not available in the markdown, but we can infer some features from the unit amenities and property details.\n",
      "\n",
      "**5. Collect neighborhood information:**\n",
      "\n",
      "* Neighborhood Information:\n",
      "\t+ Sherman Oaks, CA 91403\n",
      "\t+ Nearby neighborhoods: Mid-Wilshire, North San Fernando Valley, West San Fernando Valley, Central San Fernando Vly, Wilshire Montana, Hancock Park, Pico, Valley Glen, Mid-City Santa Monica, Grandview, Cheviot Hills, Westwood, Pico-Robertson, Hollywood Hills, Rancho Adjacent\n",
      "\n",
      "**6. Collect nearby listings:**\n",
      "\n",
      "* Nearby Listings:\n",
      "\t+ 12635 Vanowen St, North Hollywood CA\n",
      "\t+ 12036 Magnolia Blvd, Valley Village CA\n",
      "\t+ ... (and many more)\n",
      "\n",
      "Please let me know if you'd like me to extract any additional information from the markdown!\n",
      "time: 5.19 s (started: 2025-05-01 02:35:55 +07:00)\n"
     ]
    }
   ],
   "source": [
    "from langchain_community.llms import Ollama\n",
    "# model = 'llama3:8b'\n",
    "\n",
    "llm = Ollama(\n",
    "    model=OLLAMA_MODEL,\n",
    "    base_url = OLLAMA_SERVER,\n",
    "#     temperature=0.1,\n",
    "    keep_alive=True\n",
    ") \n",
    "\n",
    "\n",
    "question = '''\n",
    "'Your are a markdown and real estate expert. \\n\\n\\nPlease help me to collect a clean building information from a markdown,\\nLet\\'s collect it step by step as the folloing list:\\n1. Collect key highlights information,\\n2. Collect property facts and details,\\n3. Collect unit amenities,\\n4. Collect site amenities,\\n5. Collect unit mix information,\\n6. Collect transportation related information,\\n7. Collect property taxes information, \\n8. Collect zoning information, \\n9. Collect neighborhoods information and list all of them, \\n10. Collect nearby buildings information and list all of them,\\n11. Collect any other informtion if possible.\\nplease make sure every steps are exect and do not ignore any data in your answer.\\n\\nThe markdown data are as below:\\n\\n<markdown>\\n__ Results\\n\\n* * *\\n\\n__\\n\\nSave to Favorites\\n\\n__\\n\\nShare\\n\\n__\\n\\nPrint\\n\\nUS\\n\\n__\\n\\n__ Prev\\n\\nNext __\\n\\n  * Advertise\\n\\nCall  __ Message\\n\\n#  14931 Magnolia Blvd\\n\\n##  9 Unit Apartment Building $3,275,000 ($363,889/Unit) 4.48% Cap Rate\\nSherman Oaks, CA 91403\\n\\nApartment Buildings California Sherman Oaks\\n\\n# 14931 Magnolia Blvd, Sherman Oaks, CA 91403\\n\\n__\\n\\nMap\\n\\n__\\n\\nShare\\n\\n__\\n\\nSave to Favorites\\n\\n### Investment Highlights\\n\\n  * Not subject to LA City rent control\\n  * Prime Sherman Oaks location on major thoroughfare\\n  * Indiviual water heaters, patios, balconies, central HVAC, parking garage, securitized building\\n\\n  * Spacious townhouse units average over 970 Square feet\\n  * Over 15% rental upside\\n  * Long term owner\\n\\n### Executive Summary\\n\\nOpportunity to own an attractive pride of ownership corner-lot 9-unit building\\nin prime Sherman Oaks which is not subject to LA city rent control. Strong\\nrental location within one mile from the Sherman Oaks Galleria and fine\\nrestaurants and shopping. Convenient access to the 405, 101 and 134 freeways.\\nThis investment offers 10%+ upside potential and great long term appreciation.\\nThere is the future potential to convert to condos and or add additional\\nliving space to two of the units. Amenitized with individual water heaters,\\nlarge patios and/or balconies, vaulted ceilings, townhouse units, courtyard\\narea, common laundry room, security cameras, low maintenance building,gated\\nand secured first level garage parking.  \\nExterior of building has just been repainted.\\n\\n###  Property Facts\\n\\nPrice |  $3,275,000   \\n---|---  \\nPrice Per Unit |  $363,889   \\nSale Type |  Investment   \\nCap Rate |  4.48%   \\nGross Rent Multiplier |  14.7   \\nNo. Units |  9   \\nProperty Type |  Multifamily   \\nProperty Subtype |  Apartment   \\nApartment Style |  Townhome   \\nBuilding Class |  C   \\nLot Size |  0.18 AC   \\nBuilding Size |  8,763 SF   \\nAverage Occupancy |  100%   \\nNo. Stories |  3   \\nYear Built |  1981   \\nParking Ratio |  1.6/1,000 SF   \\n  \\n### Unit Amenities\\n\\n  * Balcony\\n  * Vaulted Ceiling\\n\\n  * Breakfast Nook\\n  * Deck\\n\\n  * Family Room\\n\\n  * Loft Layout\\n\\n### Site Amenities\\n\\n  * 24 Hour Access\\n  * Courtyard\\n\\n  * Security System\\n\\n  * Gated\\n\\n  * Gas Range\\n\\n### Unit Mix Information\\n\\nDescription | No. Units | Avg. Rent/Mo | SF  \\n---|---|---|---  \\n1+1.5 | 5 | - | 1,090  \\n1+2 | 2 | - | 860  \\n1+1 | 2 | - | 796  \\n  \\n1 of 1\\n\\n  * map\\n\\n### Transportation\\n\\n### __Transit/Subway\\n\\n|  |   \\n---|---|---  \\nSepulveda Station  | 4 min drive | 1.8 mi  \\nVan Nuys Station  | 3 min drive | 1.8 mi  \\nValley College Station  | 4 min drive | 2.6 mi  \\nWoodley Station  | 4 min drive | 2.6 mi  \\nWoodman Station  | 5 min drive | 2.8 mi  \\n  \\n### __Commuter Rail\\n\\n|  |   \\n---|---|---  \\nVan Nuys  | 8 min drive  | 4.1 mi  \\nBurbank-Bob Hope Airport  | 14 min drive  | 8.2 mi  \\nSun Valley  | 15 min drive  | 9.1 mi  \\nDowntown Burbank  | 15 min drive  | 9.9 mi  \\nNorthridge  | 16 min drive  | 9.2 mi  \\n  \\n### Airport\\n\\n|  |   \\n---|---|---  \\nBob Hope  | 14 min drive | 8.2 mi  \\nLos Angeles International  | 26 min drive | 18.7 mi  \\n  \\n### PROPERTY TAXES\\n\\nParcel Number  |  2250-021-036 |  Improvements Assessment  |  $776,658  \\n---|---|---|---  \\nLand Assessment  |  $338,528 |  Total Assessment  |  $1,115,186  \\n  \\n### zoning\\n\\nZoning Code | RD1.5 (RD1.5)  \\n---|---  \\n  \\n  * __\\n\\nKatherine Bergh\\n\\n  * Marcus & Millichap\\n\\nCall\\n\\nMessage\\n\\n* * *\\n\\n__\\n\\nSave to Favorites\\n\\n__\\n\\nShare\\n\\n__\\n\\nPrint\\n\\n  * #### Listing ID: 29270498\\n\\n  * #### Date on Market: 8/14/2023\\n\\n  * #### Last Updated: 6/20/2024\\n\\n  * #### Address: 14931 Magnolia Blvd, Sherman Oaks, CA 91403\\n\\nMore public record information on 14931 Magnolia Blvd, Sherman Oaks, CA 91403\\n\\nThe Multifamily Property at 14931 Magnolia Blvd, Sherman Oaks, CA 91403 is\\ncurrently available For Sale. Contact Marcus & Millichap for more information.\\n\\n### Multifamily PROPERTIES IN NEARBY NEIGHBORHOODS\\n\\n  * Mid-Wilshire Apartment Buildings\\n  * North San Fernando Valley Apartment Buildings\\n  * West San Fernando Valley Apartment Buildings\\n  * Central San Fernando Vly Apartment Buildings\\n  * Wilshire Montana Apartment Buildings\\n  * Hancock Park Apartment Buildings\\n  * Pico Apartment Buildings\\n  * Valley Glen Apartment Buildings\\n  * Mid-City Santa Monica Apartment Buildings\\n  * Grandview Apartment Buildings\\n  * Cheviot Hills Apartment Buildings\\n  * Westwood Apartment Buildings\\n  * Pico-Robertson Apartment Buildings\\n  * Hollywood Hills Apartment Buildings\\n  * Rancho Adjacent Apartment Buildings\\n\\n### Nearby Listings\\n\\n  * 12635 Vanowen St, North Hollywood CA\\n  * 12036 Magnolia Blvd, Valley Village CA\\n  * 4503 Fulton Ave, Sherman Oaks CA\\n  * 6600 Woodley Ave, Van Nuys CA\\n  * 6535 Fulton Ave, Van Nuys CA\\n  * 6729 Fulton Ave, Van Nuys CA\\n  * 6860 Gentry Ave, North Hollywood CA\\n  * 6956 Kester Ave, Van Nuys CA\\n  * 6455 Troost Ave, North Hollywood CA\\n  * 6242 Beck Ave, North Hollywood CA\\n  * 14065 Moorpark St, Sherman Oaks CA\\n  * 11324 Huston St, North Hollywood CA\\n  * 5329-5333 Agnes Ave, Valley Village CA\\n  * 5370 Circle Dr, Sherman Oaks CA\\n  * 5545 Calhoun Ave, Sherman Oaks CA\\n\\nThe LoopNet service and information provided therein, while believed to be\\naccurate, are provided \"as is\". LoopNet disclaims any and all representations,\\nwarranties, or guarantees of any kind.\\n\\n  * About Us\\n  * Contact Us\\n  * Search\\n  * Find a Broker\\n  * Product Overview\\n  * Mobile\\n  * Terms of Use\\n  * Privacy Policy\\n\\nConnect with us\\n\\n© 2024 CoStar Group\\n</markdown>'\n",
    "'''\n",
    "\n",
    "rules = llm.invoke(question)\n",
    "print(rules)"
   ]
  },
  {
   "cell_type": "code",
   "execution_count": null,
   "metadata": {},
   "outputs": [],
   "source": []
  },
  {
   "cell_type": "code",
   "execution_count": null,
   "metadata": {},
   "outputs": [],
   "source": []
  }
 ],
 "metadata": {
  "kernelspec": {
   "display_name": ".venv",
   "language": "python",
   "name": "python3"
  },
  "language_info": {
   "codemirror_mode": {
    "name": "ipython",
    "version": 3
   },
   "file_extension": ".py",
   "mimetype": "text/x-python",
   "name": "python",
   "nbconvert_exporter": "python",
   "pygments_lexer": "ipython3",
   "version": "3.10.11"
  }
 },
 "nbformat": 4,
 "nbformat_minor": 2
}
